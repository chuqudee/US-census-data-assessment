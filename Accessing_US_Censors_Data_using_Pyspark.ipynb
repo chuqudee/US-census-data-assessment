{
 "cells": [
  {
   "cell_type": "markdown",
   "id": "9ce49a8f",
   "metadata": {},
   "source": [
    "## Data Assessment using Pyspark"
   ]
  },
  {
   "cell_type": "markdown",
   "id": "6bb62f42",
   "metadata": {},
   "source": [
    "I was given a Technical Assessment by **Interswitch** to analyse the United States Census Bureau's 2017 Basic Monthly CPS, using Apache Spark (with preferably Python or Scala)."
   ]
  },
  {
   "cell_type": "markdown",
   "id": "9449b41e",
   "metadata": {},
   "source": [
    "The instructions are as follows:    \n",
    "Step 1: Visit the United States Census Bureau website and access the 2017 Basic Monthly CPS page.    \n",
    "Step 2: Download the DOS/Windows for December zip file and extract the dat file. It contains data captured per respondent.    \n",
    "Step 3: Using the data dictionary file, extract the following information, and show a sample of 10 records only:\n",
    "1.\tFull household identifier.   \n",
    "2.\tTime of interview in YYYY/MMM format.\n",
    "3.\tFinal outcome of the survey.\n",
    "4.\tType of housing unit.\n",
    "5.\tHousehold type.\n",
    "6.\tApartment/Household has a telephone.\n",
    "7.\tApartment/Household can access a telephone elsewhere.\n",
    "8.\tIs telephone interview acceptable for the responder.\n",
    "9.\tType of interview.\n",
    "10.\tFamily income range.\n",
    "11.\tGeographical division/location.\n",
    "12.\tRace.     \n",
    "\n",
    "\n",
    "Step 4: Using the custom data extracted in step 3, answer the below questions:\n",
    "1.\tWhat is the count of responders per family income range (show top 10)?\n",
    "2.\tWhat is the count of responders per geographical division/location and race (show top 10)?\n",
    "3.\tHow many responders do not have telephone in their house, but can access a telephone elsewhere and telephone interview is accepted (show top 10)?\n",
    "4.\tHow many responders can access to a telephone, but telephone interview is not accepted (show top 10)?     \n",
    "\n",
    "\n",
    "**Note:** *Where a value is encoded, always return the actual (decoded) value.\n"
   ]
  },
  {
   "cell_type": "code",
   "execution_count": null,
   "id": "851815af",
   "metadata": {},
   "outputs": [],
   "source": []
  },
  {
   "cell_type": "markdown",
   "id": "53a7e12a",
   "metadata": {},
   "source": [
    "#### Column names and their locations in the data dictionary"
   ]
  },
  {
   "cell_type": "markdown",
   "id": "038efeeb",
   "metadata": {},
   "source": [
    "1.\tFull household identifier.  1-15 + 71 - 75\n",
    "2.\tTime of interview in YYYY/MMM format. 18-21 / 16-17\n",
    "3.\tFinal outcome of the survey.24-26\n",
    "4.\tType of housing unit. 31 - 32\n",
    "5.\tHousehold type. 61 - 62\n",
    "6.\tApartment/Household has a telephone. 33 - 34\n",
    "7.\tApartment/Household can access a telephone elsewhere. 35 - 36\n",
    "8.\tIs telephone interview acceptable for the responder. 37 - 38\n",
    "9.\tType of interview.   65 - 66\n",
    "10.\tFamily income range.  39 - 40\n",
    "11.\tGeographical division/location. 91 - 91\n",
    "12.\tRace.   139 – 140\n"
   ]
  },
  {
   "cell_type": "code",
   "execution_count": null,
   "id": "deff3ce5",
   "metadata": {},
   "outputs": [],
   "source": []
  },
  {
   "cell_type": "code",
   "execution_count": null,
   "id": "d6643915",
   "metadata": {},
   "outputs": [],
   "source": [
    "# import neccessary libraries\n",
    "from pyspark.sql import SparkSession\n",
    "from pyspark.sql.functions import col, substring\n",
    "from pyspark.sql.types import StructType, StructField, StringType, IntegerType, DoubleType, DateType"
   ]
  },
  {
   "cell_type": "code",
   "execution_count": null,
   "id": "24c2f91a",
   "metadata": {},
   "outputs": [],
   "source": [
    "# Create Spark Session\n",
    "spark = SparkSession.builder.appName(\"US_Census\").getOrCreate()"
   ]
  },
  {
   "cell_type": "code",
   "execution_count": null,
   "id": "955a06ef",
   "metadata": {},
   "outputs": [],
   "source": [
    "# Define the schema based on the data dictionary\n",
    "schema = StructType([\n",
    "    StructField(\"household_identifier_1\", StringType(), True),\n",
    "    StructField(\"household_identifier_2\", StringType(), True),\n",
    "    StructField(\"Time_of_interview_mm\", StringType(), True),\n",
    "    StructField(\"Time_of_interview_yy\", StringType(), True),\n",
    "    StructField(\"Final_outcome_of_the_survey\", StringType(), True),\n",
    "    StructField(\"Type_of_housing_unit\", StringType(), True),\n",
    "    StructField(\"Household_type\", StringType(), True),\n",
    "    StructField(\"Apartment_Household_has_a_telephone\", StringType(), True),\n",
    "    StructField(\"Apartment_Household_can_access_a_telephone_elsewhere\", StringType(), True),\n",
    "    StructField(\"Is_telephone_interview_acceptable_for_the_responder\", StringType(), True),\n",
    "    StructField(\"Type_of_interview\", StringType(), True),\n",
    "    StructField(\"Family_income_range\", StringType(), True),\n",
    "    StructField(\"Geographical_division_location\", StringType(), True),\n",
    "    StructField(\"race\", StringType(), True)\n",
    "])"
   ]
  },
  {
   "cell_type": "code",
   "execution_count": null,
   "id": "7f393c83",
   "metadata": {},
   "outputs": [],
   "source": [
    "# Read the .dat file as a text file\n",
    "data = spark.read.text(\"dec17pub.dat\")"
   ]
  },
  {
   "cell_type": "code",
   "execution_count": null,
   "id": "dd74cf3e",
   "metadata": {},
   "outputs": [],
   "source": [
    "# Use withColumn to create new columns based on substring ranges\n",
    "extracted_df = data.withColumn(\"household_identifier_1\", substring(data.value, 1, 15)) \\\n",
    "    .withColumn(\"household_identifier_2\", substring(data.value, 71, 5)) \\\n",
    "    .withColumn(\"Time_of_interview_mm\", substring(data.value, 16, 2)) \\\n",
    "    .withColumn(\"Time_of_interview_yy\", substring(data.value, 18, 4)) \\\n",
    "    .withColumn(\"Final_outcome_of_the_survey\", substring(data.value, 24, 3)) \\\n",
    "    .withColumn(\"Type_of_housing_unit\", substring(data.value, 31, 2)) \\\n",
    "    .withColumn(\"Household_type\", substring(data.value, 61, 2)) \\\n",
    "    .withColumn(\"Apartment_Household_has_a_telephone\", substring(data.value, 33, 2)) \\\n",
    "    .withColumn(\"Apartment_Household_can_access_a_telephone_elsewhere\", substring(data.value, 35, 2)) \\\n",
    "    .withColumn(\"Is_telephone_interview_acceptable_for_the_responder\", substring(data.value, 37, 2)) \\\n",
    "    .withColumn(\"Type_of_interview\", substring(data.value, 65, 2)) \\\n",
    "    .withColumn(\"Family_income_range\", substring(data.value, 39, 2)) \\\n",
    "    .withColumn(\"Geographical_division_location\", substring(data.value, 91, 1)) \\\n",
    "    .withColumn(\"race\", substring(data.value, 139, 2))"
   ]
  },
  {
   "cell_type": "code",
   "execution_count": null,
   "id": "e2eb082f",
   "metadata": {},
   "outputs": [],
   "source": [
    "# Show a sample of 10 records\n",
    "extracted_df.show(10, truncate=False)"
   ]
  },
  {
   "cell_type": "code",
   "execution_count": null,
   "id": "2d8e2fae",
   "metadata": {},
   "outputs": [],
   "source": []
  },
  {
   "cell_type": "markdown",
   "id": "e18baa4b",
   "metadata": {},
   "source": [
    "### Converting Spark DataFrame to Pandas DataFrame"
   ]
  },
  {
   "cell_type": "code",
   "execution_count": null,
   "id": "3f5009a4",
   "metadata": {},
   "outputs": [],
   "source": [
    "import pandas as pd\n",
    "\n",
    "# Convert Spark DataFrame to Pandas DataFrame\n",
    "pandas_df = extracted_df.toPandas()\n",
    "\n",
    "# Show a sample of 10 records\n",
    "pandas_df.head(10)"
   ]
  },
  {
   "cell_type": "code",
   "execution_count": null,
   "id": "bdc20015",
   "metadata": {},
   "outputs": [],
   "source": [
    "# Drop the 'value' column\n",
    "pandas_df = pandas_df.drop('value', axis=1)\n",
    "pandas_df"
   ]
  },
  {
   "cell_type": "code",
   "execution_count": null,
   "id": "9c5a04b1",
   "metadata": {},
   "outputs": [],
   "source": [
    "# remove the negative signs (-) from all values in all columns of the DataFrame\n",
    "pandas_df = pandas_df.replace('-', '', regex=True)\n",
    "pandas_df.head()"
   ]
  },
  {
   "cell_type": "code",
   "execution_count": null,
   "id": "165d8685",
   "metadata": {},
   "outputs": [],
   "source": [
    "# concatenate the household_identifier_1 and household_identifier_2\n",
    "# create a new column named full_household_identifier, \n",
    "pandas_df['full_household_identifier'] = pandas_df.apply(lambda row: row['household_identifier_1'] + row['household_identifier_2'], axis=1)\n",
    "pandas_df.head()"
   ]
  },
  {
   "cell_type": "code",
   "execution_count": null,
   "id": "7c7135c6",
   "metadata": {},
   "outputs": [],
   "source": [
    "# concatenate the Time_of_interview_mm and Time_of_interview_yy columns with a '-' inbetween\n",
    "pandas_df['time_of_interview'] = pandas_df['Time_of_interview_yy'].astype(str) + '-' + pandas_df['Time_of_interview_mm'].astype(str)\n",
    "pandas_df.head()"
   ]
  },
  {
   "cell_type": "code",
   "execution_count": null,
   "id": "0070e062",
   "metadata": {},
   "outputs": [],
   "source": [
    "# Drop unneccessary columns\n",
    "columns_to_drop = ['household_identifier_1', 'household_identifier_2', 'Time_of_interview_mm', 'Time_of_interview_yy']\n",
    "pandas_df = pandas_df.drop(columns=columns_to_drop)\n",
    "pandas_df.head()"
   ]
  },
  {
   "cell_type": "code",
   "execution_count": null,
   "id": "0e92d33d",
   "metadata": {},
   "outputs": [],
   "source": [
    "# Define the desired column order\n",
    "desired_column_order = [\n",
    "    'full_household_identifier',\n",
    "    'time_of_interview',\n",
    "    'Final_outcome_of_the_survey',\n",
    "    'Type_of_housing_unit',\n",
    "    'Household_type',\n",
    "    'Apartment_Household_has_a_telephone',\n",
    "    'Apartment_Household_can_access_a_telephone_elsewhere',\n",
    "    'Is_telephone_interview_acceptable_for_the_responder',\n",
    "    'Type_of_interview',\n",
    "    'Family_income_range',\n",
    "    'Geographical_division_location',\n",
    "    'race'\n",
    "]\n",
    "\n",
    "# Reindex the DataFrame with the desired column order\n",
    "pandas_df = pandas_df.reindex(columns=desired_column_order)\n",
    "pandas_df.head()"
   ]
  },
  {
   "cell_type": "code",
   "execution_count": null,
   "id": "3f3b7b94",
   "metadata": {},
   "outputs": [],
   "source": [
    "# Convert columns to integers\n",
    "columns_to_convert = [\n",
    "    'Final_outcome_of_the_survey',\n",
    "    'Type_of_housing_unit',\n",
    "    'Household_type',\n",
    "    'Apartment_Household_has_a_telephone',\n",
    "    'Apartment_Household_can_access_a_telephone_elsewhere',\n",
    "    'Is_telephone_interview_acceptable_for_the_responder',\n",
    "    'Type_of_interview',\n",
    "    'Family_income_range',\n",
    "    'Geographical_division_location',\n",
    "    'race'\n",
    "]\n",
    "\n",
    "# Convert values in the specified columns to integers\n",
    "pandas_df[columns_to_convert] = pandas_df[columns_to_convert].astype(int)\n",
    "\n",
    "pandas_df.head()"
   ]
  },
  {
   "cell_type": "code",
   "execution_count": null,
   "id": "8dea21cb",
   "metadata": {},
   "outputs": [],
   "source": []
  },
  {
   "cell_type": "markdown",
   "id": "2bbe9788",
   "metadata": {},
   "source": [
    "### Using the custom data extracted to answer the following questions:\n",
    "1.\tWhat is the count of responders per family income range (show top 10)?\n",
    "2.\tWhat is the count of responders per geographical division/location and race (show top 10)?\n",
    "3.\tHow many responders do not have telephone in their house, but can access a telephone elsewhere and telephone interview is accepted?\n",
    "4.\tHow many responders can access to a telephone, but telephone interview is not accepted?     \n",
    "\n",
    "\n",
    "**Note:** *Where a value is encoded, always return the actual (decoded) value.\n"
   ]
  },
  {
   "cell_type": "markdown",
   "id": "3d795431",
   "metadata": {},
   "source": [
    "### Question 1"
   ]
  },
  {
   "cell_type": "code",
   "execution_count": null,
   "id": "44bac335",
   "metadata": {},
   "outputs": [],
   "source": [
    "# 1. Count of responders per family income range (show top 10)\n",
    "# Decode family income range\n",
    "income_range_decode = {\n",
    "    1: 'LESS THAN $5,000',\n",
    "    2: '$5,000 TO 7,499',\n",
    "    3: '$7,500 TO 9,999',\n",
    "    4: '$10,000 TO 12,499',\n",
    "    5: '$12,500 TO 14,999',\n",
    "    6: '$15,000 TO 19,999',\n",
    "    7: '$20,000 TO 24,999',\n",
    "    8: '$25,000 TO 29,999',\n",
    "    9: '$30,000 TO 34,999',\n",
    "    10: '$35,000 TO 39,999',\n",
    "    11: '$40,000 TO 49,999',\n",
    "    12: '$50,000 TO 59,999',\n",
    "    13: '$60,000 TO 74,999',\n",
    "    14: '$75,000 TO 99,999',\n",
    "    15: '$100,000 TO 149,999',\n",
    "    16: '150,000 OR MORE'\n",
    "}\n",
    "\n",
    "# Count responders per family income range\n",
    "responder_counts = pandas_df.groupby('Family_income_range').size().reset_index(name='Responder_Count')\n",
    "\n",
    "# Rename family income range with decoded values\n",
    "responder_counts['Family_income_range'] = responder_counts['Family_income_range'].map(income_range_decode)\n",
    "\n",
    "# Sort values in descending order and show top 10\n",
    "responder_counts_top10 = responder_counts.sort_values(by='Responder_Count', ascending=False).head(10)\n",
    "\n",
    "responder_counts_top10"
   ]
  },
  {
   "cell_type": "code",
   "execution_count": null,
   "id": "71be654a",
   "metadata": {},
   "outputs": [],
   "source": []
  },
  {
   "cell_type": "markdown",
   "id": "cdff5a7d",
   "metadata": {},
   "source": [
    "### Question 2"
   ]
  },
  {
   "cell_type": "code",
   "execution_count": null,
   "id": "f138e24f",
   "metadata": {},
   "outputs": [],
   "source": [
    "# 2. Count of responders per geographical division/location and race (show top 10)\n",
    "# Decode values\n",
    "decode_geographical_division = {\n",
    "    1: 'NEW ENGLAND',\n",
    "    2: 'MIDDLE ATLANTIC',\n",
    "    3: 'EAST NORTH CENTRAL',\n",
    "    4: 'WEST NORTH CENTRAL',\n",
    "    5: 'SOUTH ATLANTIC',\n",
    "    6: 'EAST SOUTH CENTRAL',\n",
    "    7: 'WEST SOUTH CENTRAL',\n",
    "    8: 'MOUNTAIN',\n",
    "    9: 'PACIFIC'\n",
    "}\n",
    "\n",
    "decode_race = {\n",
    "    1: 'White Only',\n",
    "    2: 'Black Only',\n",
    "    3: 'American Indian, Alaskan Native Only',\n",
    "    4: 'Asian Only',\n",
    "    5: 'Hawaiian/Pacific Islander Only',\n",
    "    6: 'White-Black',\n",
    "    7: 'White-AI',\n",
    "    8: 'White-Asian',\n",
    "    9: 'White-HP',\n",
    "    10: 'Black-AI',\n",
    "    11: 'Black-Asian',\n",
    "    12: 'Black-HP',\n",
    "    13: 'AI-Asian',\n",
    "    14: 'AI-HP',\n",
    "    15: 'Asian-HP',\n",
    "    16: 'W-B-AI',\n",
    "    17: 'W-B-A',\n",
    "    18: 'W-B-HP',\n",
    "    19: 'W-AI-A',\n",
    "    20: 'W-AI-HP',\n",
    "    21: 'W-A-HP',\n",
    "    22: 'B-AI-A',\n",
    "    23: 'W-B-AI-A',\n",
    "    24: 'W-AI-A-HP',\n",
    "    25: 'Other 3 Race Combinations',\n",
    "    26: 'Other 4 and 5 Race Combinations'\n",
    "}\n",
    "\n",
    "# Count responders per geographical division/location and race\n",
    "responder_counts = pandas_df.groupby(['Geographical_division_location', 'race']).size().reset_index(name='Responder_Count')\n",
    "\n",
    "# Rename geographical division/location and race with decoded values\n",
    "responder_counts['Geographical_division_location'] = responder_counts['Geographical_division_location'].map(decode_geographical_division)\n",
    "responder_counts['race'] = responder_counts['race'].map(decode_race)\n",
    "\n",
    "# Sort values in descending order and show top 10\n",
    "responder_counts_top10 = responder_counts.sort_values(by='Responder_Count', ascending=False).head(10)\n",
    "\n",
    "responder_counts_top10"
   ]
  },
  {
   "cell_type": "code",
   "execution_count": null,
   "id": "2bc40baa",
   "metadata": {},
   "outputs": [],
   "source": []
  },
  {
   "cell_type": "markdown",
   "id": "9fba86ac",
   "metadata": {},
   "source": [
    "### Question 3"
   ]
  },
  {
   "cell_type": "code",
   "execution_count": null,
   "id": "95c2aacb",
   "metadata": {},
   "outputs": [],
   "source": [
    "# 3. Responders without a telephone in their house, but can access a telephone elsewhere and telephone interview is accepted (show top 10)\n",
    "# Decode values\n",
    "decode_telephone = {1: 'YES', 2: 'NO'}\n",
    "\n",
    "# Filter responders who do not have a telephone in their house but can access a telephone elsewhere and accept telephone interview\n",
    "filtered_responders = pandas_df[(pandas_df['Apartment_Household_has_a_telephone'] == 2) & \n",
    "                                (pandas_df['Apartment_Household_can_access_a_telephone_elsewhere'] == 1) & \n",
    "                                (pandas_df['Is_telephone_interview_acceptable_for_the_responder'] == 1)]\n",
    "\n",
    "# Count responders\n",
    "top10_responders = filtered_responders.shape[0]\n",
    "\n",
    "# Create a new DataFrame to display the result\n",
    "output_data = pd.DataFrame({'Count_of_Responders': [top10_responders]})\n",
    "\n",
    "# Decode the values in the new DataFrame\n",
    "output_data['Apartment_has_A_TELEPHONE'] = decode_telephone[2]\n",
    "output_data['Apartment_has_A_TELEPHONE_ELSEWHERE'] = decode_telephone[1]\n",
    "output_data['IS_A_TELEPHONE_INTERVIEW_ACCEPTABLE'] = decode_telephone[1]\n",
    "\n",
    "output_data"
   ]
  },
  {
   "cell_type": "code",
   "execution_count": null,
   "id": "9d5320ba",
   "metadata": {},
   "outputs": [],
   "source": []
  },
  {
   "cell_type": "markdown",
   "id": "c26b1e5e",
   "metadata": {},
   "source": [
    "### Question 4"
   ]
  },
  {
   "cell_type": "code",
   "execution_count": null,
   "id": "305075ac",
   "metadata": {},
   "outputs": [],
   "source": [
    "# 4. Responders who can access a telephone, but telephone interview is not accepted (show top 10)\n",
    "# Filter responders who can access a telephone but do not accept telephone interviews\n",
    "filtered_responders = pandas_df[(pandas_df['Apartment_Household_can_access_a_telephone_elsewhere'] == 1) & \n",
    "                                (pandas_df['Is_telephone_interview_acceptable_for_the_responder'] == 2)]\n",
    "\n",
    "# Count responders\n",
    "top10_responders = filtered_responders.shape[0]\n",
    "\n",
    "# Create a new DataFrame to display the result\n",
    "output_data = pd.DataFrame({'Count_of_Responders': [top10_responders]})\n",
    "\n",
    "# Decode the values in the new DataFrame\n",
    "output_data['Apartment_has_A_TELEPHONE'] = decode_telephone[1]\n",
    "output_data['Apartment_has_A_TELEPHONE_ELSEWHERE'] = decode_telephone[1]\n",
    "output_data['IS_A_TELEPHONE_INTERVIEW_ACCEPTABLE'] = decode_telephone[2]\n",
    "\n",
    "output_data"
   ]
  },
  {
   "cell_type": "code",
   "execution_count": null,
   "id": "4ebb71dd",
   "metadata": {},
   "outputs": [],
   "source": []
  }
 ],
 "metadata": {
  "kernelspec": {
   "display_name": "Python 3 (ipykernel)",
   "language": "python",
   "name": "python3"
  },
  "language_info": {
   "codemirror_mode": {
    "name": "ipython",
    "version": 3
   },
   "file_extension": ".py",
   "mimetype": "text/x-python",
   "name": "python",
   "nbconvert_exporter": "python",
   "pygments_lexer": "ipython3",
   "version": "3.9.7"
  }
 },
 "nbformat": 4,
 "nbformat_minor": 5
}
